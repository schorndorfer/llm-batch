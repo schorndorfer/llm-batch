{
 "cells": [
  {
   "cell_type": "code",
   "execution_count": 2,
   "id": "2673f323",
   "metadata": {},
   "outputs": [],
   "source": [
    "import os\n",
    "import json\n",
    "from anthropic import Anthropic\n",
    "from anthropic.types.message_create_params import MessageCreateParamsNonStreaming\n",
    "from anthropic.types.messages.batch_create_params import Request\n",
    "from pathlib import Path"
   ]
  },
  {
   "cell_type": "code",
   "execution_count": 3,
   "id": "58f5a6af",
   "metadata": {},
   "outputs": [
    {
     "ename": "OverloadedError",
     "evalue": "Error code: 529 - {'type': 'error', 'error': {'type': 'overloaded_error', 'message': 'Overloaded'}}",
     "output_type": "error",
     "traceback": [
      "\u001b[31m---------------------------------------------------------------------------\u001b[39m",
      "\u001b[31mOverloadedError\u001b[39m                           Traceback (most recent call last)",
      "\u001b[36mCell\u001b[39m\u001b[36m \u001b[39m\u001b[32mIn[3]\u001b[39m\u001b[32m, line 5\u001b[39m\n\u001b[32m      1\u001b[39m client = Anthropic(\n\u001b[32m      2\u001b[39m     api_key=os.environ.get(\u001b[33m\"\u001b[39m\u001b[33mANTHROPIC_API_KEY\u001b[39m\u001b[33m\"\u001b[39m),  \u001b[38;5;66;03m# This is the default and can be omitted\u001b[39;00m\n\u001b[32m      3\u001b[39m )\n\u001b[32m----> \u001b[39m\u001b[32m5\u001b[39m message = \u001b[43mclient\u001b[49m\u001b[43m.\u001b[49m\u001b[43mmessages\u001b[49m\u001b[43m.\u001b[49m\u001b[43mcreate\u001b[49m\u001b[43m(\u001b[49m\n\u001b[32m      6\u001b[39m \u001b[43m    \u001b[49m\u001b[43mmax_tokens\u001b[49m\u001b[43m=\u001b[49m\u001b[32;43m1024\u001b[39;49m\u001b[43m,\u001b[49m\n\u001b[32m      7\u001b[39m \u001b[43m    \u001b[49m\u001b[43mmessages\u001b[49m\u001b[43m=\u001b[49m\u001b[43m[\u001b[49m\n\u001b[32m      8\u001b[39m \u001b[43m        \u001b[49m\u001b[43m{\u001b[49m\n\u001b[32m      9\u001b[39m \u001b[43m            \u001b[49m\u001b[33;43m\"\u001b[39;49m\u001b[33;43mrole\u001b[39;49m\u001b[33;43m\"\u001b[39;49m\u001b[43m:\u001b[49m\u001b[43m \u001b[49m\u001b[33;43m\"\u001b[39;49m\u001b[33;43muser\u001b[39;49m\u001b[33;43m\"\u001b[39;49m\u001b[43m,\u001b[49m\n\u001b[32m     10\u001b[39m \u001b[43m            \u001b[49m\u001b[33;43m\"\u001b[39;49m\u001b[33;43mcontent\u001b[39;49m\u001b[33;43m\"\u001b[39;49m\u001b[43m:\u001b[49m\u001b[43m \u001b[49m\u001b[33;43m\"\u001b[39;49m\u001b[33;43mHello, Claude\u001b[39;49m\u001b[33;43m\"\u001b[39;49m\u001b[43m,\u001b[49m\n\u001b[32m     11\u001b[39m \u001b[43m        \u001b[49m\u001b[43m}\u001b[49m\n\u001b[32m     12\u001b[39m \u001b[43m    \u001b[49m\u001b[43m]\u001b[49m\u001b[43m,\u001b[49m\n\u001b[32m     13\u001b[39m \u001b[43m    \u001b[49m\u001b[43mmodel\u001b[49m\u001b[43m=\u001b[49m\u001b[33;43m\"\u001b[39;49m\u001b[33;43mclaude-3-5-sonnet-latest\u001b[39;49m\u001b[33;43m\"\u001b[39;49m\u001b[43m,\u001b[49m\n\u001b[32m     14\u001b[39m \u001b[43m)\u001b[49m\n\u001b[32m     15\u001b[39m \u001b[38;5;28mprint\u001b[39m(message.content)\n",
      "\u001b[36mFile \u001b[39m\u001b[32m~/Code/kellogg/llm-batch/.venv/lib/python3.13/site-packages/anthropic/_utils/_utils.py:283\u001b[39m, in \u001b[36mrequired_args.<locals>.inner.<locals>.wrapper\u001b[39m\u001b[34m(*args, **kwargs)\u001b[39m\n\u001b[32m    281\u001b[39m             msg = \u001b[33mf\u001b[39m\u001b[33m\"\u001b[39m\u001b[33mMissing required argument: \u001b[39m\u001b[38;5;132;01m{\u001b[39;00mquote(missing[\u001b[32m0\u001b[39m])\u001b[38;5;132;01m}\u001b[39;00m\u001b[33m\"\u001b[39m\n\u001b[32m    282\u001b[39m     \u001b[38;5;28;01mraise\u001b[39;00m \u001b[38;5;167;01mTypeError\u001b[39;00m(msg)\n\u001b[32m--> \u001b[39m\u001b[32m283\u001b[39m \u001b[38;5;28;01mreturn\u001b[39;00m \u001b[43mfunc\u001b[49m\u001b[43m(\u001b[49m\u001b[43m*\u001b[49m\u001b[43margs\u001b[49m\u001b[43m,\u001b[49m\u001b[43m \u001b[49m\u001b[43m*\u001b[49m\u001b[43m*\u001b[49m\u001b[43mkwargs\u001b[49m\u001b[43m)\u001b[49m\n",
      "\u001b[36mFile \u001b[39m\u001b[32m~/Code/kellogg/llm-batch/.venv/lib/python3.13/site-packages/anthropic/resources/messages/messages.py:978\u001b[39m, in \u001b[36mMessages.create\u001b[39m\u001b[34m(self, max_tokens, messages, model, metadata, service_tier, stop_sequences, stream, system, temperature, thinking, tool_choice, tools, top_k, top_p, extra_headers, extra_query, extra_body, timeout)\u001b[39m\n\u001b[32m    971\u001b[39m \u001b[38;5;28;01mif\u001b[39;00m model \u001b[38;5;129;01min\u001b[39;00m DEPRECATED_MODELS:\n\u001b[32m    972\u001b[39m     warnings.warn(\n\u001b[32m    973\u001b[39m         \u001b[33mf\u001b[39m\u001b[33m\"\u001b[39m\u001b[33mThe model \u001b[39m\u001b[33m'\u001b[39m\u001b[38;5;132;01m{\u001b[39;00mmodel\u001b[38;5;132;01m}\u001b[39;00m\u001b[33m'\u001b[39m\u001b[33m is deprecated and will reach end-of-life on \u001b[39m\u001b[38;5;132;01m{\u001b[39;00mDEPRECATED_MODELS[model]\u001b[38;5;132;01m}\u001b[39;00m\u001b[33m.\u001b[39m\u001b[38;5;130;01m\\n\u001b[39;00m\u001b[33mPlease migrate to a newer model. Visit https://docs.anthropic.com/en/docs/resources/model-deprecations for more information.\u001b[39m\u001b[33m\"\u001b[39m,\n\u001b[32m    974\u001b[39m         \u001b[38;5;167;01mDeprecationWarning\u001b[39;00m,\n\u001b[32m    975\u001b[39m         stacklevel=\u001b[32m3\u001b[39m,\n\u001b[32m    976\u001b[39m     )\n\u001b[32m--> \u001b[39m\u001b[32m978\u001b[39m \u001b[38;5;28;01mreturn\u001b[39;00m \u001b[38;5;28;43mself\u001b[39;49m\u001b[43m.\u001b[49m\u001b[43m_post\u001b[49m\u001b[43m(\u001b[49m\n\u001b[32m    979\u001b[39m \u001b[43m    \u001b[49m\u001b[33;43m\"\u001b[39;49m\u001b[33;43m/v1/messages\u001b[39;49m\u001b[33;43m\"\u001b[39;49m\u001b[43m,\u001b[49m\n\u001b[32m    980\u001b[39m \u001b[43m    \u001b[49m\u001b[43mbody\u001b[49m\u001b[43m=\u001b[49m\u001b[43mmaybe_transform\u001b[49m\u001b[43m(\u001b[49m\n\u001b[32m    981\u001b[39m \u001b[43m        \u001b[49m\u001b[43m{\u001b[49m\n\u001b[32m    982\u001b[39m \u001b[43m            \u001b[49m\u001b[33;43m\"\u001b[39;49m\u001b[33;43mmax_tokens\u001b[39;49m\u001b[33;43m\"\u001b[39;49m\u001b[43m:\u001b[49m\u001b[43m \u001b[49m\u001b[43mmax_tokens\u001b[49m\u001b[43m,\u001b[49m\n\u001b[32m    983\u001b[39m \u001b[43m            \u001b[49m\u001b[33;43m\"\u001b[39;49m\u001b[33;43mmessages\u001b[39;49m\u001b[33;43m\"\u001b[39;49m\u001b[43m:\u001b[49m\u001b[43m \u001b[49m\u001b[43mmessages\u001b[49m\u001b[43m,\u001b[49m\n\u001b[32m    984\u001b[39m \u001b[43m            \u001b[49m\u001b[33;43m\"\u001b[39;49m\u001b[33;43mmodel\u001b[39;49m\u001b[33;43m\"\u001b[39;49m\u001b[43m:\u001b[49m\u001b[43m \u001b[49m\u001b[43mmodel\u001b[49m\u001b[43m,\u001b[49m\n\u001b[32m    985\u001b[39m \u001b[43m            \u001b[49m\u001b[33;43m\"\u001b[39;49m\u001b[33;43mmetadata\u001b[39;49m\u001b[33;43m\"\u001b[39;49m\u001b[43m:\u001b[49m\u001b[43m \u001b[49m\u001b[43mmetadata\u001b[49m\u001b[43m,\u001b[49m\n\u001b[32m    986\u001b[39m \u001b[43m            \u001b[49m\u001b[33;43m\"\u001b[39;49m\u001b[33;43mservice_tier\u001b[39;49m\u001b[33;43m\"\u001b[39;49m\u001b[43m:\u001b[49m\u001b[43m \u001b[49m\u001b[43mservice_tier\u001b[49m\u001b[43m,\u001b[49m\n\u001b[32m    987\u001b[39m \u001b[43m            \u001b[49m\u001b[33;43m\"\u001b[39;49m\u001b[33;43mstop_sequences\u001b[39;49m\u001b[33;43m\"\u001b[39;49m\u001b[43m:\u001b[49m\u001b[43m \u001b[49m\u001b[43mstop_sequences\u001b[49m\u001b[43m,\u001b[49m\n\u001b[32m    988\u001b[39m \u001b[43m            \u001b[49m\u001b[33;43m\"\u001b[39;49m\u001b[33;43mstream\u001b[39;49m\u001b[33;43m\"\u001b[39;49m\u001b[43m:\u001b[49m\u001b[43m \u001b[49m\u001b[43mstream\u001b[49m\u001b[43m,\u001b[49m\n\u001b[32m    989\u001b[39m \u001b[43m            \u001b[49m\u001b[33;43m\"\u001b[39;49m\u001b[33;43msystem\u001b[39;49m\u001b[33;43m\"\u001b[39;49m\u001b[43m:\u001b[49m\u001b[43m \u001b[49m\u001b[43msystem\u001b[49m\u001b[43m,\u001b[49m\n\u001b[32m    990\u001b[39m \u001b[43m            \u001b[49m\u001b[33;43m\"\u001b[39;49m\u001b[33;43mtemperature\u001b[39;49m\u001b[33;43m\"\u001b[39;49m\u001b[43m:\u001b[49m\u001b[43m \u001b[49m\u001b[43mtemperature\u001b[49m\u001b[43m,\u001b[49m\n\u001b[32m    991\u001b[39m \u001b[43m            \u001b[49m\u001b[33;43m\"\u001b[39;49m\u001b[33;43mthinking\u001b[39;49m\u001b[33;43m\"\u001b[39;49m\u001b[43m:\u001b[49m\u001b[43m \u001b[49m\u001b[43mthinking\u001b[49m\u001b[43m,\u001b[49m\n\u001b[32m    992\u001b[39m \u001b[43m            \u001b[49m\u001b[33;43m\"\u001b[39;49m\u001b[33;43mtool_choice\u001b[39;49m\u001b[33;43m\"\u001b[39;49m\u001b[43m:\u001b[49m\u001b[43m \u001b[49m\u001b[43mtool_choice\u001b[49m\u001b[43m,\u001b[49m\n\u001b[32m    993\u001b[39m \u001b[43m            \u001b[49m\u001b[33;43m\"\u001b[39;49m\u001b[33;43mtools\u001b[39;49m\u001b[33;43m\"\u001b[39;49m\u001b[43m:\u001b[49m\u001b[43m \u001b[49m\u001b[43mtools\u001b[49m\u001b[43m,\u001b[49m\n\u001b[32m    994\u001b[39m \u001b[43m            \u001b[49m\u001b[33;43m\"\u001b[39;49m\u001b[33;43mtop_k\u001b[39;49m\u001b[33;43m\"\u001b[39;49m\u001b[43m:\u001b[49m\u001b[43m \u001b[49m\u001b[43mtop_k\u001b[49m\u001b[43m,\u001b[49m\n\u001b[32m    995\u001b[39m \u001b[43m            \u001b[49m\u001b[33;43m\"\u001b[39;49m\u001b[33;43mtop_p\u001b[39;49m\u001b[33;43m\"\u001b[39;49m\u001b[43m:\u001b[49m\u001b[43m \u001b[49m\u001b[43mtop_p\u001b[49m\u001b[43m,\u001b[49m\n\u001b[32m    996\u001b[39m \u001b[43m        \u001b[49m\u001b[43m}\u001b[49m\u001b[43m,\u001b[49m\n\u001b[32m    997\u001b[39m \u001b[43m        \u001b[49m\u001b[43mmessage_create_params\u001b[49m\u001b[43m.\u001b[49m\u001b[43mMessageCreateParamsStreaming\u001b[49m\n\u001b[32m    998\u001b[39m \u001b[43m        \u001b[49m\u001b[38;5;28;43;01mif\u001b[39;49;00m\u001b[43m \u001b[49m\u001b[43mstream\u001b[49m\n\u001b[32m    999\u001b[39m \u001b[43m        \u001b[49m\u001b[38;5;28;43;01melse\u001b[39;49;00m\u001b[43m \u001b[49m\u001b[43mmessage_create_params\u001b[49m\u001b[43m.\u001b[49m\u001b[43mMessageCreateParamsNonStreaming\u001b[49m\u001b[43m,\u001b[49m\n\u001b[32m   1000\u001b[39m \u001b[43m    \u001b[49m\u001b[43m)\u001b[49m\u001b[43m,\u001b[49m\n\u001b[32m   1001\u001b[39m \u001b[43m    \u001b[49m\u001b[43moptions\u001b[49m\u001b[43m=\u001b[49m\u001b[43mmake_request_options\u001b[49m\u001b[43m(\u001b[49m\n\u001b[32m   1002\u001b[39m \u001b[43m        \u001b[49m\u001b[43mextra_headers\u001b[49m\u001b[43m=\u001b[49m\u001b[43mextra_headers\u001b[49m\u001b[43m,\u001b[49m\u001b[43m \u001b[49m\u001b[43mextra_query\u001b[49m\u001b[43m=\u001b[49m\u001b[43mextra_query\u001b[49m\u001b[43m,\u001b[49m\u001b[43m \u001b[49m\u001b[43mextra_body\u001b[49m\u001b[43m=\u001b[49m\u001b[43mextra_body\u001b[49m\u001b[43m,\u001b[49m\u001b[43m \u001b[49m\u001b[43mtimeout\u001b[49m\u001b[43m=\u001b[49m\u001b[43mtimeout\u001b[49m\n\u001b[32m   1003\u001b[39m \u001b[43m    \u001b[49m\u001b[43m)\u001b[49m\u001b[43m,\u001b[49m\n\u001b[32m   1004\u001b[39m \u001b[43m    \u001b[49m\u001b[43mcast_to\u001b[49m\u001b[43m=\u001b[49m\u001b[43mMessage\u001b[49m\u001b[43m,\u001b[49m\n\u001b[32m   1005\u001b[39m \u001b[43m    \u001b[49m\u001b[43mstream\u001b[49m\u001b[43m=\u001b[49m\u001b[43mstream\u001b[49m\u001b[43m \u001b[49m\u001b[38;5;129;43;01mor\u001b[39;49;00m\u001b[43m \u001b[49m\u001b[38;5;28;43;01mFalse\u001b[39;49;00m\u001b[43m,\u001b[49m\n\u001b[32m   1006\u001b[39m \u001b[43m    \u001b[49m\u001b[43mstream_cls\u001b[49m\u001b[43m=\u001b[49m\u001b[43mStream\u001b[49m\u001b[43m[\u001b[49m\u001b[43mRawMessageStreamEvent\u001b[49m\u001b[43m]\u001b[49m\u001b[43m,\u001b[49m\n\u001b[32m   1007\u001b[39m \u001b[43m\u001b[49m\u001b[43m)\u001b[49m\n",
      "\u001b[36mFile \u001b[39m\u001b[32m~/Code/kellogg/llm-batch/.venv/lib/python3.13/site-packages/anthropic/_base_client.py:1314\u001b[39m, in \u001b[36mSyncAPIClient.post\u001b[39m\u001b[34m(self, path, cast_to, body, options, files, stream, stream_cls)\u001b[39m\n\u001b[32m   1300\u001b[39m \u001b[38;5;28;01mdef\u001b[39;00m\u001b[38;5;250m \u001b[39m\u001b[34mpost\u001b[39m(\n\u001b[32m   1301\u001b[39m     \u001b[38;5;28mself\u001b[39m,\n\u001b[32m   1302\u001b[39m     path: \u001b[38;5;28mstr\u001b[39m,\n\u001b[32m   (...)\u001b[39m\u001b[32m   1309\u001b[39m     stream_cls: \u001b[38;5;28mtype\u001b[39m[_StreamT] | \u001b[38;5;28;01mNone\u001b[39;00m = \u001b[38;5;28;01mNone\u001b[39;00m,\n\u001b[32m   1310\u001b[39m ) -> ResponseT | _StreamT:\n\u001b[32m   1311\u001b[39m     opts = FinalRequestOptions.construct(\n\u001b[32m   1312\u001b[39m         method=\u001b[33m\"\u001b[39m\u001b[33mpost\u001b[39m\u001b[33m\"\u001b[39m, url=path, json_data=body, files=to_httpx_files(files), **options\n\u001b[32m   1313\u001b[39m     )\n\u001b[32m-> \u001b[39m\u001b[32m1314\u001b[39m     \u001b[38;5;28;01mreturn\u001b[39;00m cast(ResponseT, \u001b[38;5;28;43mself\u001b[39;49m\u001b[43m.\u001b[49m\u001b[43mrequest\u001b[49m\u001b[43m(\u001b[49m\u001b[43mcast_to\u001b[49m\u001b[43m,\u001b[49m\u001b[43m \u001b[49m\u001b[43mopts\u001b[49m\u001b[43m,\u001b[49m\u001b[43m \u001b[49m\u001b[43mstream\u001b[49m\u001b[43m=\u001b[49m\u001b[43mstream\u001b[49m\u001b[43m,\u001b[49m\u001b[43m \u001b[49m\u001b[43mstream_cls\u001b[49m\u001b[43m=\u001b[49m\u001b[43mstream_cls\u001b[49m\u001b[43m)\u001b[49m)\n",
      "\u001b[36mFile \u001b[39m\u001b[32m~/Code/kellogg/llm-batch/.venv/lib/python3.13/site-packages/anthropic/_base_client.py:1102\u001b[39m, in \u001b[36mSyncAPIClient.request\u001b[39m\u001b[34m(self, cast_to, options, stream, stream_cls)\u001b[39m\n\u001b[32m   1099\u001b[39m             err.response.read()\n\u001b[32m   1101\u001b[39m         log.debug(\u001b[33m\"\u001b[39m\u001b[33mRe-raising status error\u001b[39m\u001b[33m\"\u001b[39m)\n\u001b[32m-> \u001b[39m\u001b[32m1102\u001b[39m         \u001b[38;5;28;01mraise\u001b[39;00m \u001b[38;5;28mself\u001b[39m._make_status_error_from_response(err.response) \u001b[38;5;28;01mfrom\u001b[39;00m\u001b[38;5;250m \u001b[39m\u001b[38;5;28;01mNone\u001b[39;00m\n\u001b[32m   1104\u001b[39m     \u001b[38;5;28;01mbreak\u001b[39;00m\n\u001b[32m   1106\u001b[39m \u001b[38;5;28;01massert\u001b[39;00m response \u001b[38;5;129;01mis\u001b[39;00m \u001b[38;5;129;01mnot\u001b[39;00m \u001b[38;5;28;01mNone\u001b[39;00m, \u001b[33m\"\u001b[39m\u001b[33mcould not resolve response (should never happen)\u001b[39m\u001b[33m\"\u001b[39m\n",
      "\u001b[31mOverloadedError\u001b[39m: Error code: 529 - {'type': 'error', 'error': {'type': 'overloaded_error', 'message': 'Overloaded'}}"
     ]
    }
   ],
   "source": [
    "client = Anthropic(\n",
    "    api_key=os.environ.get(\"ANTHROPIC_API_KEY\"),  # This is the default and can be omitted\n",
    ")\n",
    "\n",
    "message = client.messages.create(\n",
    "    max_tokens=1024,\n",
    "    messages=[\n",
    "        {\n",
    "            \"role\": \"user\",\n",
    "            \"content\": \"Hello, Claude\",\n",
    "        }\n",
    "    ],\n",
    "    model=\"claude-3-5-sonnet-latest\",\n",
    ")\n",
    "print(message.content)"
   ]
  },
  {
   "cell_type": "code",
   "execution_count": 3,
   "id": "031b01a0",
   "metadata": {},
   "outputs": [],
   "source": [
    "result = client.beta.messages.batches.create(\n",
    "    requests=[\n",
    "        {\n",
    "            \"custom_id\": \"my-first-request\",\n",
    "            \"params\": {\n",
    "                \"model\": \"claude-3-5-sonnet-latest\",\n",
    "                \"max_tokens\": 1024,\n",
    "                \"messages\": [{\"role\": \"user\", \"content\": \"Hello, world\"}],\n",
    "            },\n",
    "        },\n",
    "        {\n",
    "            \"custom_id\": \"my-second-request\",\n",
    "            \"params\": {\n",
    "                \"model\": \"claude-3-5-sonnet-latest\",\n",
    "                \"max_tokens\": 1024,\n",
    "                \"messages\": [{\"role\": \"user\", \"content\": \"Hi again, friend\"}],\n",
    "            },\n",
    "        },\n",
    "    ]\n",
    ")\n"
   ]
  },
  {
   "cell_type": "code",
   "execution_count": 4,
   "id": "c7c20346",
   "metadata": {},
   "outputs": [
    {
     "name": "stdout",
     "output_type": "stream",
     "text": [
      "MessageBatch(id='msgbatch_01GPZ5YrTCg73xJoLoNCRcmg', archived_at=None, cancel_initiated_at=None, created_at=datetime.datetime(2025, 7, 3, 1, 49, 0, 674555, tzinfo=datetime.timezone.utc), ended_at=datetime.datetime(2025, 7, 3, 1, 50, 22, 917170, tzinfo=TzInfo(UTC)), expires_at=datetime.datetime(2025, 7, 4, 1, 49, 0, 674555, tzinfo=datetime.timezone.utc), processing_status='ended', request_counts=MessageBatchRequestCounts(canceled=0, errored=0, expired=0, processing=0, succeeded=6), results_url='https://api.anthropic.com/v1/messages/batches/msgbatch_01GPZ5YrTCg73xJoLoNCRcmg/results', type='message_batch')\n",
      "MessageBatch(id='msgbatch_017seTsRug5vNHJcTChmpNcZ', archived_at=None, cancel_initiated_at=None, created_at=datetime.datetime(2025, 7, 3, 1, 44, 42, 857241, tzinfo=datetime.timezone.utc), ended_at=datetime.datetime(2025, 7, 3, 1, 45, 43, 247876, tzinfo=TzInfo(UTC)), expires_at=datetime.datetime(2025, 7, 4, 1, 44, 42, 857241, tzinfo=datetime.timezone.utc), processing_status='ended', request_counts=MessageBatchRequestCounts(canceled=0, errored=0, expired=0, processing=0, succeeded=6), results_url='https://api.anthropic.com/v1/messages/batches/msgbatch_017seTsRug5vNHJcTChmpNcZ/results', type='message_batch')\n",
      "MessageBatch(id='msgbatch_01Xfe5gSew8pPwiMfTUsuujz', archived_at=None, cancel_initiated_at=None, created_at=datetime.datetime(2025, 7, 3, 0, 48, 15, 619661, tzinfo=datetime.timezone.utc), ended_at=datetime.datetime(2025, 7, 3, 0, 49, 40, 626001, tzinfo=TzInfo(UTC)), expires_at=datetime.datetime(2025, 7, 4, 0, 48, 15, 619661, tzinfo=datetime.timezone.utc), processing_status='ended', request_counts=MessageBatchRequestCounts(canceled=0, errored=0, expired=0, processing=0, succeeded=6), results_url='https://api.anthropic.com/v1/messages/batches/msgbatch_01Xfe5gSew8pPwiMfTUsuujz/results', type='message_batch')\n",
      "MessageBatch(id='msgbatch_016HribSdXtUdoKaRB7W7Gsu', archived_at=None, cancel_initiated_at=None, created_at=datetime.datetime(2025, 7, 3, 0, 45, 50, 868971, tzinfo=datetime.timezone.utc), ended_at=datetime.datetime(2025, 7, 3, 0, 45, 52, 797429, tzinfo=TzInfo(UTC)), expires_at=datetime.datetime(2025, 7, 4, 0, 45, 50, 868971, tzinfo=datetime.timezone.utc), processing_status='ended', request_counts=MessageBatchRequestCounts(canceled=0, errored=6, expired=0, processing=0, succeeded=0), results_url='https://api.anthropic.com/v1/messages/batches/msgbatch_016HribSdXtUdoKaRB7W7Gsu/results', type='message_batch')\n",
      "MessageBatch(id='msgbatch_01Jjgak3X1PdnhDn2asuF1rF', archived_at=None, cancel_initiated_at=None, created_at=datetime.datetime(2025, 7, 3, 0, 42, 27, 808069, tzinfo=datetime.timezone.utc), ended_at=datetime.datetime(2025, 7, 3, 0, 42, 33, 192564, tzinfo=TzInfo(UTC)), expires_at=datetime.datetime(2025, 7, 4, 0, 42, 27, 808069, tzinfo=datetime.timezone.utc), processing_status='ended', request_counts=MessageBatchRequestCounts(canceled=0, errored=6, expired=0, processing=0, succeeded=0), results_url='https://api.anthropic.com/v1/messages/batches/msgbatch_01Jjgak3X1PdnhDn2asuF1rF/results', type='message_batch')\n",
      "MessageBatch(id='msgbatch_01VCwdfMx6jDi9ReB1ruskf9', archived_at=None, cancel_initiated_at=None, created_at=datetime.datetime(2025, 7, 3, 0, 39, 55, 434207, tzinfo=datetime.timezone.utc), ended_at=datetime.datetime(2025, 7, 3, 0, 39, 57, 595154, tzinfo=TzInfo(UTC)), expires_at=datetime.datetime(2025, 7, 4, 0, 39, 55, 434207, tzinfo=datetime.timezone.utc), processing_status='ended', request_counts=MessageBatchRequestCounts(canceled=0, errored=6, expired=0, processing=0, succeeded=0), results_url='https://api.anthropic.com/v1/messages/batches/msgbatch_01VCwdfMx6jDi9ReB1ruskf9/results', type='message_batch')\n",
      "MessageBatch(id='msgbatch_015tihjZtuR1UWDBAHcwFBJN', archived_at=None, cancel_initiated_at=None, created_at=datetime.datetime(2025, 7, 2, 21, 19, 34, 694754, tzinfo=datetime.timezone.utc), ended_at=datetime.datetime(2025, 7, 2, 21, 20, 56, 89385, tzinfo=TzInfo(UTC)), expires_at=datetime.datetime(2025, 7, 3, 21, 19, 34, 694754, tzinfo=datetime.timezone.utc), processing_status='ended', request_counts=MessageBatchRequestCounts(canceled=0, errored=0, expired=0, processing=0, succeeded=2), results_url='https://api.anthropic.com/v1/messages/batches/msgbatch_015tihjZtuR1UWDBAHcwFBJN/results', type='message_batch')\n"
     ]
    }
   ],
   "source": [
    "for message_batch in client.messages.batches.list(limit=20):\n",
    "    print(message_batch)"
   ]
  },
  {
   "cell_type": "code",
   "execution_count": 39,
   "id": "4ab378b0",
   "metadata": {},
   "outputs": [],
   "source": [
    "path = Path(\"/Users/williamthompson/Code/kellogg/llm-batch/notebooks/requests/claude-sonnet-4-20250514\")\n",
    "request_files = list(path.glob(\"*.json\"))"
   ]
  },
  {
   "cell_type": "code",
   "execution_count": 59,
   "id": "23446c28",
   "metadata": {},
   "outputs": [],
   "source": [
    "batch_requests = Path(\"/Users/williamthompson/Code/kellogg/llm-batch/notebooks/batch-requests.jsonl\") \n",
    "request_datas = []\n",
    "with open(batch_requests, \"r\") as f:\n",
    "    for line in f:\n",
    "        request_datas.append(json.loads(line))"
   ]
  },
  {
   "cell_type": "code",
   "execution_count": 5,
   "id": "0c333b1a",
   "metadata": {},
   "outputs": [
    {
     "ename": "NameError",
     "evalue": "name 'request_datas' is not defined",
     "output_type": "error",
     "traceback": [
      "\u001b[31m---------------------------------------------------------------------------\u001b[39m",
      "\u001b[31mNameError\u001b[39m                                 Traceback (most recent call last)",
      "\u001b[36mCell\u001b[39m\u001b[36m \u001b[39m\u001b[32mIn[5]\u001b[39m\u001b[32m, line 2\u001b[39m\n\u001b[32m      1\u001b[39m requests=[]\n\u001b[32m----> \u001b[39m\u001b[32m2\u001b[39m \u001b[38;5;28;01mfor\u001b[39;00m idx, request_data \u001b[38;5;129;01min\u001b[39;00m \u001b[38;5;28menumerate\u001b[39m(\u001b[43mrequest_datas\u001b[49m):\n\u001b[32m      3\u001b[39m     body = request_data[\u001b[33m'\u001b[39m\u001b[33mbody\u001b[39m\u001b[33m'\u001b[39m]\n\u001b[32m      4\u001b[39m     params=MessageCreateParamsNonStreaming(\n\u001b[32m      5\u001b[39m         model=body[\u001b[33m'\u001b[39m\u001b[33mmodel\u001b[39m\u001b[33m'\u001b[39m],\n\u001b[32m      6\u001b[39m         max_tokens=body[\u001b[33m'\u001b[39m\u001b[33mmax_tokens\u001b[39m\u001b[33m'\u001b[39m],\n\u001b[32m      7\u001b[39m         messages=body[\u001b[33m'\u001b[39m\u001b[33mmessages\u001b[39m\u001b[33m'\u001b[39m],\n\u001b[32m      8\u001b[39m     )\n",
      "\u001b[31mNameError\u001b[39m: name 'request_datas' is not defined"
     ]
    }
   ],
   "source": [
    "requests=[]\n",
    "for idx, request_data in enumerate(request_datas):\n",
    "    body = request_data['body']\n",
    "    params=MessageCreateParamsNonStreaming(\n",
    "        model=body['model'],\n",
    "        max_tokens=body['max_tokens'],\n",
    "        messages=body['messages'],\n",
    "    )\n",
    "    requests.append(\n",
    "        Request(\n",
    "            custom_id=f\"id-{idx}\", \n",
    "            params=params\n",
    "        )\n",
    "    )"
   ]
  },
  {
   "cell_type": "code",
   "execution_count": 64,
   "id": "d92465b3",
   "metadata": {},
   "outputs": [
    {
     "data": {
      "text/plain": [
       "{'custom_id': 'id-0',\n",
       " 'params': {'model': 'claude-sonnet-4-20250514',\n",
       "  'max_tokens': 15,\n",
       "  'messages': [{'role': 'user',\n",
       "    'content': [{'text': 'Below is a summary of a study from an academic paper:\\n \\nThe study aimed to test how two different drugs impact whether a patient recovers from a certain disease. Subjects were randomly drawn from a fixed population and then randomly assigned to Drug A or Drug B. Fifty-two percent (52%) of subjects who took Drug A recovered from the disease while forty-four percent (44%) of subjects who took Drug B recovered from the disease.\\n \\nA test of the null hypothesis that there is no difference between Drug A and Drug B in terms of probability of recovery from the disease yields a *p*-value of 0.0.51.\\n \\nAssuming no prior studies have been conducted with these drugs, which of the following statements is most accurate\\n\\nOption A. A person drawn randomly from the same population as the subjects in the study is **more likely** to recover from the disease if given Drug A than if given Drug B.\\n\\nOption B. A person drawn randomly from the same population as the subjects in the study is **less likely** to recover from the disease if given Drug A than if given Drug B.\\n\\nOption C. A person drawn randomly from the same population as the subjects in the study is  **equally likely** to recover from the disease if given Drug A than if given Drug B.\\n\\nOption D. It **cannot be determined** whether a person drawn randomly from the same population as the subjects in the study is more / less / equally likely to recover from the disease if given Drug A or if given Drug B.\\n\\nIn considering this question, it might be helpful to bear in mind a principle articulated in the 2016 American Statistical Association *Statement on Statistical Significance and *P*-values*: Scientific conclusions and business or policy decisions should not be based only on whether a *p*-value passes a specific threshold.\\n\\nPlease answer only Option A, Option B, Option C, or Option D.',\n",
       "      'type': 'text'}]}]}}"
      ]
     },
     "execution_count": 64,
     "metadata": {},
     "output_type": "execute_result"
    }
   ],
   "source": [
    "requests[0]"
   ]
  },
  {
   "cell_type": "code",
   "execution_count": 65,
   "id": "381c78cf",
   "metadata": {},
   "outputs": [],
   "source": [
    "message_batch = client.messages.batches.create(requests=requests)"
   ]
  },
  {
   "cell_type": "code",
   "execution_count": 6,
   "id": "393b26d8",
   "metadata": {},
   "outputs": [
    {
     "name": "stdout",
     "output_type": "stream",
     "text": [
      "MessageBatch(id='msgbatch_01GPZ5YrTCg73xJoLoNCRcmg', archived_at=None, cancel_initiated_at=None, created_at=datetime.datetime(2025, 7, 3, 1, 49, 0, 674555, tzinfo=datetime.timezone.utc), ended_at=datetime.datetime(2025, 7, 3, 1, 50, 22, 917170, tzinfo=TzInfo(UTC)), expires_at=datetime.datetime(2025, 7, 4, 1, 49, 0, 674555, tzinfo=datetime.timezone.utc), processing_status='ended', request_counts=MessageBatchRequestCounts(canceled=0, errored=0, expired=0, processing=0, succeeded=6), results_url='https://api.anthropic.com/v1/messages/batches/msgbatch_01GPZ5YrTCg73xJoLoNCRcmg/results', type='message_batch')\n",
      "MessageBatch(id='msgbatch_017seTsRug5vNHJcTChmpNcZ', archived_at=None, cancel_initiated_at=None, created_at=datetime.datetime(2025, 7, 3, 1, 44, 42, 857241, tzinfo=datetime.timezone.utc), ended_at=datetime.datetime(2025, 7, 3, 1, 45, 43, 247876, tzinfo=TzInfo(UTC)), expires_at=datetime.datetime(2025, 7, 4, 1, 44, 42, 857241, tzinfo=datetime.timezone.utc), processing_status='ended', request_counts=MessageBatchRequestCounts(canceled=0, errored=0, expired=0, processing=0, succeeded=6), results_url='https://api.anthropic.com/v1/messages/batches/msgbatch_017seTsRug5vNHJcTChmpNcZ/results', type='message_batch')\n",
      "MessageBatch(id='msgbatch_01Xfe5gSew8pPwiMfTUsuujz', archived_at=None, cancel_initiated_at=None, created_at=datetime.datetime(2025, 7, 3, 0, 48, 15, 619661, tzinfo=datetime.timezone.utc), ended_at=datetime.datetime(2025, 7, 3, 0, 49, 40, 626001, tzinfo=TzInfo(UTC)), expires_at=datetime.datetime(2025, 7, 4, 0, 48, 15, 619661, tzinfo=datetime.timezone.utc), processing_status='ended', request_counts=MessageBatchRequestCounts(canceled=0, errored=0, expired=0, processing=0, succeeded=6), results_url='https://api.anthropic.com/v1/messages/batches/msgbatch_01Xfe5gSew8pPwiMfTUsuujz/results', type='message_batch')\n",
      "MessageBatch(id='msgbatch_016HribSdXtUdoKaRB7W7Gsu', archived_at=None, cancel_initiated_at=None, created_at=datetime.datetime(2025, 7, 3, 0, 45, 50, 868971, tzinfo=datetime.timezone.utc), ended_at=datetime.datetime(2025, 7, 3, 0, 45, 52, 797429, tzinfo=TzInfo(UTC)), expires_at=datetime.datetime(2025, 7, 4, 0, 45, 50, 868971, tzinfo=datetime.timezone.utc), processing_status='ended', request_counts=MessageBatchRequestCounts(canceled=0, errored=6, expired=0, processing=0, succeeded=0), results_url='https://api.anthropic.com/v1/messages/batches/msgbatch_016HribSdXtUdoKaRB7W7Gsu/results', type='message_batch')\n",
      "MessageBatch(id='msgbatch_01Jjgak3X1PdnhDn2asuF1rF', archived_at=None, cancel_initiated_at=None, created_at=datetime.datetime(2025, 7, 3, 0, 42, 27, 808069, tzinfo=datetime.timezone.utc), ended_at=datetime.datetime(2025, 7, 3, 0, 42, 33, 192564, tzinfo=TzInfo(UTC)), expires_at=datetime.datetime(2025, 7, 4, 0, 42, 27, 808069, tzinfo=datetime.timezone.utc), processing_status='ended', request_counts=MessageBatchRequestCounts(canceled=0, errored=6, expired=0, processing=0, succeeded=0), results_url='https://api.anthropic.com/v1/messages/batches/msgbatch_01Jjgak3X1PdnhDn2asuF1rF/results', type='message_batch')\n",
      "MessageBatch(id='msgbatch_01VCwdfMx6jDi9ReB1ruskf9', archived_at=None, cancel_initiated_at=None, created_at=datetime.datetime(2025, 7, 3, 0, 39, 55, 434207, tzinfo=datetime.timezone.utc), ended_at=datetime.datetime(2025, 7, 3, 0, 39, 57, 595154, tzinfo=TzInfo(UTC)), expires_at=datetime.datetime(2025, 7, 4, 0, 39, 55, 434207, tzinfo=datetime.timezone.utc), processing_status='ended', request_counts=MessageBatchRequestCounts(canceled=0, errored=6, expired=0, processing=0, succeeded=0), results_url='https://api.anthropic.com/v1/messages/batches/msgbatch_01VCwdfMx6jDi9ReB1ruskf9/results', type='message_batch')\n",
      "MessageBatch(id='msgbatch_015tihjZtuR1UWDBAHcwFBJN', archived_at=None, cancel_initiated_at=None, created_at=datetime.datetime(2025, 7, 2, 21, 19, 34, 694754, tzinfo=datetime.timezone.utc), ended_at=datetime.datetime(2025, 7, 2, 21, 20, 56, 89385, tzinfo=TzInfo(UTC)), expires_at=datetime.datetime(2025, 7, 3, 21, 19, 34, 694754, tzinfo=datetime.timezone.utc), processing_status='ended', request_counts=MessageBatchRequestCounts(canceled=0, errored=0, expired=0, processing=0, succeeded=2), results_url='https://api.anthropic.com/v1/messages/batches/msgbatch_015tihjZtuR1UWDBAHcwFBJN/results', type='message_batch')\n"
     ]
    }
   ],
   "source": [
    "for batch in client.messages.batches.list(\n",
    "    limit=20\n",
    "):\n",
    "    print(batch)"
   ]
  },
  {
   "cell_type": "code",
   "execution_count": 7,
   "id": "c1a9b9db",
   "metadata": {},
   "outputs": [
    {
     "name": "stdout",
     "output_type": "stream",
     "text": [
      "{\n",
      "  \"custom_id\": \"id-0\",\n",
      "  \"result\": {\n",
      "    \"message\": {\n",
      "      \"id\": \"msg_01V3maWLoZK5oEU2RPi7GYfZ\",\n",
      "      \"content\": [\n",
      "        {\n",
      "          \"text\": \"Looking at this study:\\n\\n- Drug A: 52% recovery rate\",\n",
      "          \"type\": \"text\"\n",
      "        }\n",
      "      ],\n",
      "      \"model\": \"claude-sonnet-4-20250514\",\n",
      "      \"role\": \"assistant\",\n",
      "      \"stop_reason\": \"max_tokens\",\n",
      "      \"stop_sequence\": null,\n",
      "      \"type\": \"message\",\n",
      "      \"usage\": {\n",
      "        \"cache_creation_input_tokens\": 0,\n",
      "        \"cache_read_input_tokens\": 0,\n",
      "        \"input_tokens\": 411,\n",
      "        \"output_tokens\": 15,\n",
      "        \"service_tier\": \"batch\"\n",
      "      }\n",
      "    },\n",
      "    \"type\": \"succeeded\"\n",
      "  }\n",
      "}\n",
      "{\n",
      "  \"custom_id\": \"id-1\",\n",
      "  \"result\": {\n",
      "    \"message\": {\n",
      "      \"id\": \"msg_01XhFP2eDHaEA1USUsnu1z6W\",\n",
      "      \"content\": [\n",
      "        {\n",
      "          \"text\": \"Option D.\\n\\nThe p-value of 0.49 indicates\",\n",
      "          \"type\": \"text\"\n",
      "        }\n",
      "      ],\n",
      "      \"model\": \"claude-sonnet-4-20250514\",\n",
      "      \"role\": \"assistant\",\n",
      "      \"stop_reason\": \"max_tokens\",\n",
      "      \"stop_sequence\": null,\n",
      "      \"type\": \"message\",\n",
      "      \"usage\": {\n",
      "        \"cache_creation_input_tokens\": 0,\n",
      "        \"cache_read_input_tokens\": 0,\n",
      "        \"input_tokens\": 556,\n",
      "        \"output_tokens\": 15,\n",
      "        \"service_tier\": \"batch\"\n",
      "      }\n",
      "    },\n",
      "    \"type\": \"succeeded\"\n",
      "  }\n",
      "}\n",
      "{\n",
      "  \"custom_id\": \"id-2\",\n",
      "  \"result\": {\n",
      "    \"message\": {\n",
      "      \"id\": \"msg_01PMnJtkFpjC1TRpQa8tfMyL\",\n",
      "      \"content\": [\n",
      "        {\n",
      "          \"text\": \"Looking at this study:\\n\\n- Drug A: 52% recovery rate\",\n",
      "          \"type\": \"text\"\n",
      "        }\n",
      "      ],\n",
      "      \"model\": \"claude-sonnet-4-20250514\",\n",
      "      \"role\": \"assistant\",\n",
      "      \"stop_reason\": \"max_tokens\",\n",
      "      \"stop_sequence\": null,\n",
      "      \"type\": \"message\",\n",
      "      \"usage\": {\n",
      "        \"cache_creation_input_tokens\": 0,\n",
      "        \"cache_read_input_tokens\": 0,\n",
      "        \"input_tokens\": 345,\n",
      "        \"output_tokens\": 15,\n",
      "        \"service_tier\": \"batch\"\n",
      "      }\n",
      "    },\n",
      "    \"type\": \"succeeded\"\n",
      "  }\n",
      "}\n",
      "{\n",
      "  \"custom_id\": \"id-3\",\n",
      "  \"result\": {\n",
      "    \"message\": {\n",
      "      \"id\": \"msg_0177cMaRJ33pcVGJQ1eURfny\",\n",
      "      \"content\": [\n",
      "        {\n",
      "          \"text\": \"Option D.\\n\\nThe p-value of 0.051 suggests\",\n",
      "          \"type\": \"text\"\n",
      "        }\n",
      "      ],\n",
      "      \"model\": \"claude-sonnet-4-20250514\",\n",
      "      \"role\": \"assistant\",\n",
      "      \"stop_reason\": \"max_tokens\",\n",
      "      \"stop_sequence\": null,\n",
      "      \"type\": \"message\",\n",
      "      \"usage\": {\n",
      "        \"cache_creation_input_tokens\": 0,\n",
      "        \"cache_read_input_tokens\": 0,\n",
      "        \"input_tokens\": 556,\n",
      "        \"output_tokens\": 15,\n",
      "        \"service_tier\": \"batch\"\n",
      "      }\n",
      "    },\n",
      "    \"type\": \"succeeded\"\n",
      "  }\n",
      "}\n",
      "{\n",
      "  \"custom_id\": \"id-4\",\n",
      "  \"result\": {\n",
      "    \"message\": {\n",
      "      \"id\": \"msg_018ojHgcSVt9qSZpNS5PaRbc\",\n",
      "      \"content\": [\n",
      "        {\n",
      "          \"text\": \"Looking at this step by step:\\n\\n1. The study shows Drug A\",\n",
      "          \"type\": \"text\"\n",
      "        }\n",
      "      ],\n",
      "      \"model\": \"claude-sonnet-4-20250514\",\n",
      "      \"role\": \"assistant\",\n",
      "      \"stop_reason\": \"max_tokens\",\n",
      "      \"stop_sequence\": null,\n",
      "      \"type\": \"message\",\n",
      "      \"usage\": {\n",
      "        \"cache_creation_input_tokens\": 0,\n",
      "        \"cache_read_input_tokens\": 0,\n",
      "        \"input_tokens\": 345,\n",
      "        \"output_tokens\": 15,\n",
      "        \"service_tier\": \"batch\"\n",
      "      }\n",
      "    },\n",
      "    \"type\": \"succeeded\"\n",
      "  }\n",
      "}\n",
      "{\n",
      "  \"custom_id\": \"id-5\",\n",
      "  \"result\": {\n",
      "    \"message\": {\n",
      "      \"id\": \"msg_013YqHtQrdXu5d3v8tNg4vuy\",\n",
      "      \"content\": [\n",
      "        {\n",
      "          \"text\": \"Looking at this study:\\n\\n- Drug A: 52% recovery rate\",\n",
      "          \"type\": \"text\"\n",
      "        }\n",
      "      ],\n",
      "      \"model\": \"claude-sonnet-4-20250514\",\n",
      "      \"role\": \"assistant\",\n",
      "      \"stop_reason\": \"max_tokens\",\n",
      "      \"stop_sequence\": null,\n",
      "      \"type\": \"message\",\n",
      "      \"usage\": {\n",
      "        \"cache_creation_input_tokens\": 0,\n",
      "        \"cache_read_input_tokens\": 0,\n",
      "        \"input_tokens\": 411,\n",
      "        \"output_tokens\": 15,\n",
      "        \"service_tier\": \"batch\"\n",
      "      }\n",
      "    },\n",
      "    \"type\": \"succeeded\"\n",
      "  }\n",
      "}\n"
     ]
    }
   ],
   "source": [
    "results = client.messages.batches.results(\n",
    "    message_batch_id=\"msgbatch_017seTsRug5vNHJcTChmpNcZ\",\n",
    ")\n",
    "for result in results:\n",
    "    print(result.to_json())"
   ]
  },
  {
   "cell_type": "code",
   "execution_count": null,
   "id": "615e7f92",
   "metadata": {},
   "outputs": [],
   "source": []
  }
 ],
 "metadata": {
  "kernelspec": {
   "display_name": "llm-batch (3.13.2)",
   "language": "python",
   "name": "python3"
  },
  "language_info": {
   "codemirror_mode": {
    "name": "ipython",
    "version": 3
   },
   "file_extension": ".py",
   "mimetype": "text/x-python",
   "name": "python",
   "nbconvert_exporter": "python",
   "pygments_lexer": "ipython3",
   "version": "3.13.2"
  }
 },
 "nbformat": 4,
 "nbformat_minor": 5
}
